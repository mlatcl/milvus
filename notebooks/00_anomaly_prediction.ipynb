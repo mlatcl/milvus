{
 "cells": [
  {
   "cell_type": "code",
   "execution_count": 1,
   "id": "4d155f22-e150-4c34-9a57-9c7167d45a65",
   "metadata": {
    "lines_to_next_cell": 1
   },
   "outputs": [
    {
     "ename": "ModuleNotFoundError",
     "evalue": "No module named 'milvus'",
     "output_type": "error",
     "traceback": [
      "\u001b[0;31m---------------------------------------------------------------------------\u001b[0m",
      "\u001b[0;31mModuleNotFoundError\u001b[0m                       Traceback (most recent call last)",
      "\u001b[0;32m<ipython-input-1-cd5eb866cee7>\u001b[0m in \u001b[0;36m<module>\u001b[0;34m\u001b[0m\n\u001b[1;32m      4\u001b[0m \u001b[0;32mimport\u001b[0m \u001b[0mnumpy\u001b[0m \u001b[0;32mas\u001b[0m \u001b[0mnp\u001b[0m\u001b[0;34m\u001b[0m\u001b[0;34m\u001b[0m\u001b[0m\n\u001b[1;32m      5\u001b[0m \u001b[0;34m\u001b[0m\u001b[0m\n\u001b[0;32m----> 6\u001b[0;31m \u001b[0;32mimport\u001b[0m \u001b[0mmilvus\u001b[0m\u001b[0;34m\u001b[0m\u001b[0;34m\u001b[0m\u001b[0m\n\u001b[0m",
      "\u001b[0;31mModuleNotFoundError\u001b[0m: No module named 'milvus'"
     ]
    }
   ],
   "source": [
    "from datetime import datetime\n",
    "from typing import Mapping\n",
    "\n",
    "import numpy as np\n",
    "\n",
    "import milvus"
   ]
  },
  {
   "cell_type": "markdown",
   "id": "034e02a4-d686-4f33-b621-0ba8a92afd66",
   "metadata": {},
   "source": [
    "# Minimalist system description"
   ]
  },
  {
   "cell_type": "code",
   "execution_count": 3,
   "id": "846adcad-5043-40e9-b605-335d956d8182",
   "metadata": {},
   "outputs": [],
   "source": [
    "class Sensors(milvus.Record):\n",
    "    timestamp: datetime\n",
    "    temperature: float\n",
    "    fan_rpm: float\n",
    "\n",
    "\n",
    "sensor_api = milvus.data_sources.REST(\"example.com/sensors\", poll=True)\n",
    "sensor_readings = milvus.stream(\"sensor_readings\", value_type=Sensors)\n",
    "\n",
    "\n",
    "@milvus.node(inputs=[sensor_api], outputs=[sensor_readings])\n",
    "async def ingest_sensor_data(self, sensor_events):\n",
    "    async for event in sensor_events:\n",
    "        yield Sensors(\n",
    "            **event,\n",
    "            timestamp=milvus.parse_time(event[\"strange_timetamp\"]),\n",
    "        )"
   ]
  },
  {
   "cell_type": "code",
   "execution_count": 5,
   "id": "d5a9eefb-00bf-45f0-961d-5e5dfe81235f",
   "metadata": {},
   "outputs": [],
   "source": [
    "class Machine(milvus.Record):\n",
    "    name: str\n",
    "    fan_control_curve: Mapping[float, float]\n",
    "    alert_temperature: float\n",
    "\n",
    "\n",
    "machine_context = milvus.context(\"machine_properties\", value_type=Machine)"
   ]
  },
  {
   "cell_type": "markdown",
   "id": "fabf49ca-27b2-40cb-860f-c99470b132d9",
   "metadata": {},
   "source": [
    "# Slotting in a predictive model"
   ]
  },
  {
   "cell_type": "code",
   "execution_count": 6,
   "id": "ed8108bc-0245-420d-8bac-9417321ad20f",
   "metadata": {},
   "outputs": [],
   "source": [
    "predicted_temperatures = milvus.stream(\"predicted_temperatures\", value_type=float)\n",
    "\n",
    "model_config = milvus.context(\"model_config\", value_type=dict)\n",
    "model_artifacts = milvus.context(\"model_artifacts\")\n",
    "\n",
    "preprocessing_pipeline = milvus.Sequential(\n",
    "    {\n",
    "        \"add_history\": milvus.Windowed(minutes=10),\n",
    "        \"clean_data\": milvus.Filter(\n",
    "            lambda window: len(window) > 10 and not np.any(np.isnan(window))\n",
    "        ),\n",
    "        \"whiten\": milvus.Whiten(),\n",
    "    }\n",
    ")\n",
    "\n",
    "is_next_temperature_bad = milvus.Model(\n",
    "    \"is_next_temperature_bad\",\n",
    "    model=milvus.models.MagicTemperatureClassificationModel,\n",
    "    inputs=preprocessing_pipeline(sensor_readings),\n",
    "    outputs=predicted_temperatures,\n",
    "    config=model_config,\n",
    "    artifacts=model_artifacts,\n",
    ")"
   ]
  },
  {
   "cell_type": "markdown",
   "id": "92a91398-4d79-41a2-ab11-5f6266bd4377",
   "metadata": {},
   "source": [
    "# Monitoring"
   ]
  },
  {
   "cell_type": "code",
   "execution_count": 7,
   "id": "324028b5-4cc0-425a-82e8-b14632915483",
   "metadata": {
    "lines_to_next_cell": 2
   },
   "outputs": [],
   "source": [
    "system_alerts = milvus.stream(\"system_alerts\", value_type=str)\n",
    "rpm_monitoring_config = milvus.context(\n",
    "    \"rpm_monitoring_config\",\n",
    "    default={\n",
    "        \"acceptable_deviation_ratio\": 0.2,\n",
    "        \"acceptable_deviations_per_window\": 2,\n",
    "    },\n",
    ")\n",
    "\n",
    "\n",
    "@milvus.node(\n",
    "    inputs=[preprocessing_pipeline[\"clean_data\"]],\n",
    "    contexts=[machine_context, rpm_monitoring_config],\n",
    "    outputs=[system_alerts],\n",
    ")\n",
    "async def check_rpm(windows):\n",
    "    def is_rpm_bad(sensor_state):\n",
    "        rpm_deviation = abs(\n",
    "            sensor_state.rpm\n",
    "            - machine_context.fan_control_curve(sensor_state.temperature)\n",
    "        )\n",
    "        return rpm_deviation / rpm > rpm_monitoring_config[\"acceptable_deviation_ratio\"]\n",
    "\n",
    "    async for window in windows:\n",
    "        num_deviations = sum(is_rpm_bad(sensor_state) for sensor_wtate in window)\n",
    "        if num_deviations > rpm_monitoring_config[\"acceptable_deviations_per_window\"]:\n",
    "            yield \"Too many deviations!\""
   ]
  },
  {
   "cell_type": "markdown",
   "id": "7fc58156-2ecc-4a83-9a05-8c23ea3fe38d",
   "metadata": {},
   "source": [
    "# Deployment"
   ]
  },
  {
   "cell_type": "code",
   "execution_count": null,
   "id": "8b312c32-6a91-4c16-9088-cf9736e1fc8a",
   "metadata": {},
   "outputs": [],
   "source": []
  }
 ],
 "metadata": {
  "jupytext": {
   "formats": "ipynb,py:percent"
  },
  "kernelspec": {
   "display_name": "Python 3",
   "language": "python",
   "name": "python3"
  },
  "language_info": {
   "codemirror_mode": {
    "name": "ipython",
    "version": 3
   },
   "file_extension": ".py",
   "mimetype": "text/x-python",
   "name": "python",
   "nbconvert_exporter": "python",
   "pygments_lexer": "ipython3",
   "version": "3.9.5"
  }
 },
 "nbformat": 4,
 "nbformat_minor": 5
}
