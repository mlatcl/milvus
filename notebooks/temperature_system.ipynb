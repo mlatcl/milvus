{
 "cells": [
  {
   "cell_type": "code",
   "execution_count": 1,
   "id": "4d155f22-e150-4c34-9a57-9c7167d45a65",
   "metadata": {
    "lines_to_next_cell": 1
   },
   "outputs": [],
   "source": [
    "from datetime import datetime\n",
    "from typing import Mapping\n",
    "\n",
    "import numpy as np\n",
    "\n",
    "import milvus"
   ]
  },
  {
   "cell_type": "markdown",
   "id": "034e02a4-d686-4f33-b621-0ba8a92afd66",
   "metadata": {},
   "source": [
    "# Minimalist system description"
   ]
  },
  {
   "cell_type": "code",
   "execution_count": 2,
   "id": "846adcad-5043-40e9-b605-335d956d8182",
   "metadata": {},
   "outputs": [],
   "source": [
    "class Sensors(milvus.Record):\n",
    "    timestamp: datetime\n",
    "    temperature: float\n",
    "    fan_rpm: float\n",
    "\n",
    "\n",
    "sensor_api = milvus.data_sources.REST(\"sensor_api\", poll=True)\n",
    "sensor_readings = milvus.stream(\"sensor_readings\", value_type=Sensors)\n",
    "\n",
    "\n",
    "@milvus.node(inputs=[sensor_api], outputs=[sensor_readings])\n",
    "async def ingest_sensor_data(self, sensor_events):\n",
    "    async for event in sensor_events:\n",
    "        yield Sensors(\n",
    "            **event,\n",
    "            timestamp=milvus.parse_time(event[\"strange_timetamp\"]),\n",
    "        )"
   ]
  },
  {
   "cell_type": "code",
   "execution_count": 3,
   "id": "d5a9eefb-00bf-45f0-961d-5e5dfe81235f",
   "metadata": {},
   "outputs": [],
   "source": [
    "class Machine(milvus.Record):\n",
    "    name: str\n",
    "    fan_control_curve: Mapping[float, float]\n",
    "    alert_temperature: float\n",
    "\n",
    "\n",
    "machine_properties = milvus.context(\"machine_properties\", value_type=Machine)"
   ]
  },
  {
   "cell_type": "markdown",
   "id": "fabf49ca-27b2-40cb-860f-c99470b132d9",
   "metadata": {},
   "source": [
    "# Slotting in a predictive model"
   ]
  },
  {
   "cell_type": "code",
   "execution_count": 4,
   "id": "ed8108bc-0245-420d-8bac-9417321ad20f",
   "metadata": {},
   "outputs": [],
   "source": [
    "predicted_temperatures = milvus.stream(\"predicted_temperatures\", value_type=float)\n",
    "\n",
    "model_config = milvus.context(\"model_config\", value_type=dict)\n",
    "model_artifacts = milvus.context(\"model_artifacts\")\n",
    "\n",
    "preprocessing_pipeline = milvus.Sequential(\n",
    "    {\n",
    "        \"add_history\": milvus.Windowed(minutes=10),\n",
    "        \"clean_data\": milvus.Filter(\n",
    "            lambda window: len(window) > 10 and not np.any(np.isnan(window))\n",
    "        ),\n",
    "        \"whiten\": milvus.Whiten(),\n",
    "    }\n",
    ")\n",
    "\n",
    "is_next_temperature_bad = milvus.Model(\n",
    "    \"is_next_temperature_bad\",\n",
    "    model=milvus.models.MagicTemperatureClassificationModel,\n",
    "    inputs=preprocessing_pipeline(sensor_readings),\n",
    "    outputs=predicted_temperatures,\n",
    "    config=model_config,\n",
    "    artifacts=model_artifacts,\n",
    ")"
   ]
  },
  {
   "cell_type": "markdown",
   "id": "92a91398-4d79-41a2-ab11-5f6266bd4377",
   "metadata": {},
   "source": [
    "# Monitoring"
   ]
  },
  {
   "cell_type": "code",
   "execution_count": 5,
   "id": "324028b5-4cc0-425a-82e8-b14632915483",
   "metadata": {
    "lines_to_next_cell": 2
   },
   "outputs": [],
   "source": [
    "system_alerts = milvus.stream(\"system_alerts\", value_type=str)\n",
    "rpm_monitoring_config = milvus.context(\n",
    "    \"rpm_monitoring_config\",\n",
    "    default={\n",
    "        \"acceptable_deviation_ratio\": 0.2,\n",
    "        \"acceptable_deviations_per_window\": 2,\n",
    "    },\n",
    ")\n",
    "\n",
    "\n",
    "@milvus.node(\n",
    "    inputs=[preprocessing_pipeline[\"clean_data\"]],\n",
    "    contexts=[machine_properties, rpm_monitoring_config],\n",
    "    outputs=[system_alerts],\n",
    ")\n",
    "async def check_rpm(windows):\n",
    "    def is_rpm_bad(sensor_state):\n",
    "        rpm_deviation = abs(\n",
    "            sensor_state.rpm\n",
    "            - machine_properties.fan_control_curve(sensor_state.temperature)\n",
    "        )\n",
    "        return (\n",
    "            rpm_deviation / sensor_state.rpm\n",
    "            > rpm_monitoring_config[\"acceptable_deviation_ratio\"]\n",
    "        )\n",
    "\n",
    "    async for window in windows:\n",
    "        num_deviations = sum(is_rpm_bad(sensor_state) for sensor_state in window)\n",
    "        if num_deviations > rpm_monitoring_config[\"acceptable_deviations_per_window\"]:\n",
    "            yield \"Too many deviations!\""
   ]
  },
  {
   "cell_type": "markdown",
   "id": "7fc58156-2ecc-4a83-9a05-8c23ea3fe38d",
   "metadata": {},
   "source": [
    "# Deployment"
   ]
  },
  {
   "cell_type": "markdown",
   "id": "513edd66-a62b-4172-814b-fdf521850d86",
   "metadata": {},
   "source": [
    "```yaml\n",
    "context:\n",
    "    sensor_api: \"https://example.com/sensor_api\"\n",
    "    \n",
    "    machine_properties:\n",
    "        name: George\n",
    "        fan_control_curve: \"<some-fancy-function>\"\n",
    "        alert_temperature: 75\n",
    "    \n",
    "    model_config:\n",
    "        learning_rate: 1e-3\n",
    "    \n",
    "    model_artifacts:\n",
    "        kafka: \"my-topic\"\n",
    "```"
   ]
  },
  {
   "cell_type": "markdown",
   "id": "d73fcafa-3753-4e5e-92a2-4a09652101c2",
   "metadata": {},
   "source": [
    "![temperature system](temperature_system.png)"
   ]
  },
  {
   "cell_type": "code",
   "execution_count": null,
   "id": "a0a612fb-f2a9-41b6-b8ef-3b84b520063d",
   "metadata": {},
   "outputs": [],
   "source": []
  }
 ],
 "metadata": {
  "jupytext": {
   "formats": "ipynb,py:percent"
  },
  "kernelspec": {
   "display_name": "Python 3",
   "language": "python",
   "name": "python3"
  },
  "language_info": {
   "codemirror_mode": {
    "name": "ipython",
    "version": 3
   },
   "file_extension": ".py",
   "mimetype": "text/x-python",
   "name": "python",
   "nbconvert_exporter": "python",
   "pygments_lexer": "ipython3",
   "version": "3.9.6"
  }
 },
 "nbformat": 4,
 "nbformat_minor": 5
}
